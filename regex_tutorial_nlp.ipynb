{
 "cells": [
  {
   "cell_type": "code",
   "execution_count": 1,
   "id": "57aad050-f26d-4926-b5fc-9ff814b7ce0d",
   "metadata": {},
   "outputs": [],
   "source": [
    "import re #for pattern matching"
   ]
  },
  {
   "cell_type": "code",
   "execution_count": 2,
   "id": "1a9c0279-2c91-4545-9c65-baa55922432e",
   "metadata": {},
   "outputs": [],
   "source": [
    "#We will extract email address and phone number"
   ]
  },
  {
   "cell_type": "code",
   "execution_count": 3,
   "id": "1d746717-c827-40fa-9c8b-6e4d7f8aaefc",
   "metadata": {},
   "outputs": [],
   "source": [
    "chat1 = 'codebasics: you ask lot of questions 😠  1235678912, abc@xyz.com'\n",
    "chat2 = 'codebasics: here it is: (123)-567-8912, abc@xyz.com'\n",
    "chat3 = 'codebasics: yes, phone: 1235678912 email: abc@xyz.com'"
   ]
  },
  {
   "cell_type": "code",
   "execution_count": 5,
   "id": "04961e98-0084-4092-ab35-76e186e9f6bf",
   "metadata": {},
   "outputs": [
    {
     "data": {
      "text/plain": [
       "['1235678912']"
      ]
     },
     "execution_count": 5,
     "metadata": {},
     "output_type": "execute_result"
    }
   ],
   "source": [
    "pattern = \"\\d{10}\"\n",
    "\n",
    "matches = re.findall(pattern,chat1)\n",
    "matches"
   ]
  },
  {
   "cell_type": "code",
   "execution_count": 11,
   "id": "33e98d02-2b31-46da-9e05-75071734c0fb",
   "metadata": {},
   "outputs": [
    {
     "data": {
      "text/plain": [
       "['1235678912']"
      ]
     },
     "execution_count": 11,
     "metadata": {},
     "output_type": "execute_result"
    }
   ],
   "source": [
    "pattern_1 = \"\\d{10}|\\(\\d{3}\\)\\-\\d{3}\\-\\d{4}\"\n",
    "\n",
    "matches = re.findall(pattern_1,chat3)\n",
    "matches"
   ]
  },
  {
   "cell_type": "code",
   "execution_count": 14,
   "id": "ce60c4f4-5b0e-4cea-8169-dadaa90b9a97",
   "metadata": {},
   "outputs": [
    {
     "data": {
      "text/plain": [
       "['abc@xyz.com']"
      ]
     },
     "execution_count": 14,
     "metadata": {},
     "output_type": "execute_result"
    }
   ],
   "source": [
    "\n",
    "pattern_1 = \"\\d{10}|\\(\\d{3}\\)\\-\\d{3}\\-\\d{4}\"\n",
    "\n",
    "matches = re.findall(pattern_1,chat3)\n",
    "matches"
   ]
  },
  {
   "cell_type": "code",
   "execution_count": 15,
   "id": "5dab3401-8440-41dc-b2b8-8865eb4568e3",
   "metadata": {},
   "outputs": [
    {
     "data": {
      "text/plain": [
       "['412889912']"
      ]
     },
     "execution_count": 15,
     "metadata": {},
     "output_type": "execute_result"
    }
   ],
   "source": [
    "ord1='codebasics: Hello, I am having an issue with my order # 412889912'\n",
    "ord2='codebasics: I have a problem with my order number 412889912'\n",
    "ord3='codebasics: My order 412889912 is having an issue, I was charged 300$ when online it says 280$'\n",
    "\n",
    "pattern_1 = \"order[^\\d]*(\\d*)\"\n",
    "\n",
    "matches = re.findall(pattern_1,ord3)\n",
    "matches"
   ]
  },
  {
   "cell_type": "code",
   "execution_count": 16,
   "id": "9658d631-c133-43b9-a8b7-99753f3655bb",
   "metadata": {},
   "outputs": [],
   "source": [
    "#Information Extraction"
   ]
  },
  {
   "cell_type": "code",
   "execution_count": 29,
   "id": "fc2f7f07-34de-4c67-910b-b8514fbb9c3b",
   "metadata": {},
   "outputs": [],
   "source": [
    "def get_pattern_match(pattern, text):\n",
    "    matches = re.findall(pattern, text)\n",
    "    if matches:\n",
    "        return matches"
   ]
  },
  {
   "cell_type": "code",
   "execution_count": 30,
   "id": "d3821cb8-6960-48f6-8c14-e5180afdf1d3",
   "metadata": {},
   "outputs": [],
   "source": [
    "text='''\n",
    "Born\tElon Reeve Musk\n",
    "June 28, 1971 (age 50)\n",
    "Pretoria, Transvaal, South Africa\n",
    "Citizenship\t\n",
    "South Africa (1971–present)\n",
    "Canada (1971–present)\n",
    "United States (2002–present)\n",
    "Education\tUniversity of Pennsylvania (BS, BA)\n",
    "Title\t\n",
    "Founder, CEO and Chief Engineer of SpaceX\n",
    "CEO and product architect of Tesla, Inc.\n",
    "Founder of The Boring Company and X.com (now part of PayPal)\n",
    "Co-founder of Neuralink, OpenAI, and Zip2\n",
    "Spouse(s)\t\n",
    "Justine Wilson\n",
    "​\n",
    "​(m. 2000; div. 2008)​\n",
    "Talulah Riley\n",
    "​\n",
    "​(m. 2010; div. 2012)​\n",
    "​\n",
    "​(m. 2013; div. 2016)\n",
    "'''"
   ]
  },
  {
   "cell_type": "code",
   "execution_count": 31,
   "id": "8c70eb5b-28ee-4532-9f21-a2fb7791c607",
   "metadata": {},
   "outputs": [],
   "source": [
    "def extract_personal_information(text):\n",
    "    age = get_pattern_match('age (\\d+)', text)\n",
    "    full_name = get_pattern_match('Born(.*)\\n', text)\n",
    "    birth_date = get_pattern_match('Born.*\\n(.*)\\(age', text)\n",
    "    birth_place = get_pattern_match('\\(age.*\\n(.*)', text)\n",
    "    return {\n",
    "        'age': int(age),\n",
    "        'name': full_name.strip(),\n",
    "        'birth_date': birth_date.strip(),\n",
    "        'birth_place': birth_place.strip()\n",
    "    }"
   ]
  },
  {
   "cell_type": "code",
   "execution_count": 32,
   "id": "67621794-2d51-412e-ae7a-0d6e464ba6bb",
   "metadata": {},
   "outputs": [
    {
     "ename": "TypeError",
     "evalue": "int() argument must be a string, a bytes-like object or a real number, not 'list'",
     "output_type": "error",
     "traceback": [
      "\u001b[1;31m---------------------------------------------------------------------------\u001b[0m",
      "\u001b[1;31mTypeError\u001b[0m                                 Traceback (most recent call last)",
      "Input \u001b[1;32mIn [32]\u001b[0m, in \u001b[0;36m<cell line: 1>\u001b[1;34m()\u001b[0m\n\u001b[1;32m----> 1\u001b[0m \u001b[43mextract_personal_information\u001b[49m\u001b[43m(\u001b[49m\u001b[43mtext\u001b[49m\u001b[43m)\u001b[49m\n",
      "Input \u001b[1;32mIn [31]\u001b[0m, in \u001b[0;36mextract_personal_information\u001b[1;34m(text)\u001b[0m\n\u001b[0;32m      4\u001b[0m birth_date \u001b[38;5;241m=\u001b[39m get_pattern_match(\u001b[38;5;124m'\u001b[39m\u001b[38;5;124mBorn.*\u001b[39m\u001b[38;5;130;01m\\n\u001b[39;00m\u001b[38;5;124m(.*)\u001b[39m\u001b[38;5;124m\\\u001b[39m\u001b[38;5;124m(age\u001b[39m\u001b[38;5;124m'\u001b[39m, text)\n\u001b[0;32m      5\u001b[0m birth_place \u001b[38;5;241m=\u001b[39m get_pattern_match(\u001b[38;5;124m'\u001b[39m\u001b[38;5;124m\\\u001b[39m\u001b[38;5;124m(age.*\u001b[39m\u001b[38;5;130;01m\\n\u001b[39;00m\u001b[38;5;124m(.*)\u001b[39m\u001b[38;5;124m'\u001b[39m, text)\n\u001b[0;32m      6\u001b[0m \u001b[38;5;28;01mreturn\u001b[39;00m {\n\u001b[1;32m----> 7\u001b[0m     \u001b[38;5;124m'\u001b[39m\u001b[38;5;124mage\u001b[39m\u001b[38;5;124m'\u001b[39m: \u001b[38;5;28;43mint\u001b[39;49m\u001b[43m(\u001b[49m\u001b[43mage\u001b[49m\u001b[43m)\u001b[49m,\n\u001b[0;32m      8\u001b[0m     \u001b[38;5;124m'\u001b[39m\u001b[38;5;124mname\u001b[39m\u001b[38;5;124m'\u001b[39m: full_name\u001b[38;5;241m.\u001b[39mstrip(),\n\u001b[0;32m      9\u001b[0m     \u001b[38;5;124m'\u001b[39m\u001b[38;5;124mbirth_date\u001b[39m\u001b[38;5;124m'\u001b[39m: birth_date\u001b[38;5;241m.\u001b[39mstrip(),\n\u001b[0;32m     10\u001b[0m     \u001b[38;5;124m'\u001b[39m\u001b[38;5;124mbirth_place\u001b[39m\u001b[38;5;124m'\u001b[39m: birth_place\u001b[38;5;241m.\u001b[39mstrip()\n\u001b[0;32m     11\u001b[0m }\n",
      "\u001b[1;31mTypeError\u001b[0m: int() argument must be a string, a bytes-like object or a real number, not 'list'"
     ]
    }
   ],
   "source": [
    "extract_personal_information(text)"
   ]
  },
  {
   "cell_type": "code",
   "execution_count": null,
   "id": "b8977f7a-058f-430c-8567-4d6ac9d1dae3",
   "metadata": {},
   "outputs": [],
   "source": []
  }
 ],
 "metadata": {
  "kernelspec": {
   "display_name": "Python 3 (ipykernel)",
   "language": "python",
   "name": "python3"
  },
  "language_info": {
   "codemirror_mode": {
    "name": "ipython",
    "version": 3
   },
   "file_extension": ".py",
   "mimetype": "text/x-python",
   "name": "python",
   "nbconvert_exporter": "python",
   "pygments_lexer": "ipython3",
   "version": "3.10.0"
  }
 },
 "nbformat": 4,
 "nbformat_minor": 5
}
